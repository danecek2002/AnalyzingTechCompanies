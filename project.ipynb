{
 "cells": [
  {
   "cell_type": "code",
   "execution_count": 30,
   "outputs": [
    {
     "data": {
      "text/plain": "Index(['timestamp', 'company', 'level', 'title', 'totalyearlycompensation',\n       'location', 'yearsofexperience', 'yearsatcompany', 'tag', 'basesalary',\n       'stockgrantvalue', 'bonus', 'gender', 'otherdetails', 'cityid', 'dmaid',\n       'rowNumber', 'Masters_Degree', 'Bachelors_Degree', 'Doctorate_Degree',\n       'Highschool', 'Some_College', 'Race_Asian', 'Race_White',\n       'Race_Two_Or_More', 'Race_Black', 'Race_Hispanic', 'Race', 'Education'],\n      dtype='object')"
     },
     "execution_count": 30,
     "metadata": {},
     "output_type": "execute_result"
    }
   ],
   "source": [
    "import pandas as pd\n",
    "\n",
    "import matplotlib.pyplot as plt\n",
    "import numpy as np\n",
    "df = pd.read_csv('dataPlaty.csv')\n",
    "df.columns"
   ],
   "metadata": {
    "collapsed": false,
    "ExecuteTime": {
     "start_time": "2023-05-11T11:16:13.062825Z",
     "end_time": "2023-05-11T11:16:13.428675Z"
    }
   }
  },
  {
   "cell_type": "code",
   "execution_count": 31,
   "outputs": [
    {
     "name": "stdout",
     "output_type": "stream",
     "text": [
      "<class 'pandas.core.frame.DataFrame'>\n",
      "RangeIndex: 62642 entries, 0 to 62641\n",
      "Data columns (total 29 columns):\n",
      " #   Column                   Non-Null Count  Dtype  \n",
      "---  ------                   --------------  -----  \n",
      " 0   timestamp                62642 non-null  object \n",
      " 1   company                  62637 non-null  object \n",
      " 2   level                    62523 non-null  object \n",
      " 3   title                    62642 non-null  object \n",
      " 4   totalyearlycompensation  62642 non-null  int64  \n",
      " 5   location                 62642 non-null  object \n",
      " 6   yearsofexperience        62642 non-null  float64\n",
      " 7   yearsatcompany           62642 non-null  float64\n",
      " 8   tag                      61788 non-null  object \n",
      " 9   basesalary               62642 non-null  float64\n",
      " 10  stockgrantvalue          62642 non-null  float64\n",
      " 11  bonus                    62642 non-null  float64\n",
      " 12  gender                   43102 non-null  object \n",
      " 13  otherdetails             40137 non-null  object \n",
      " 14  cityid                   62642 non-null  int64  \n",
      " 15  dmaid                    62640 non-null  float64\n",
      " 16  rowNumber                62642 non-null  int64  \n",
      " 17  Masters_Degree           62642 non-null  int64  \n",
      " 18  Bachelors_Degree         62642 non-null  int64  \n",
      " 19  Doctorate_Degree         62642 non-null  int64  \n",
      " 20  Highschool               62642 non-null  int64  \n",
      " 21  Some_College             62642 non-null  int64  \n",
      " 22  Race_Asian               62642 non-null  int64  \n",
      " 23  Race_White               62642 non-null  int64  \n",
      " 24  Race_Two_Or_More         62642 non-null  int64  \n",
      " 25  Race_Black               62642 non-null  int64  \n",
      " 26  Race_Hispanic            62642 non-null  int64  \n",
      " 27  Race                     22427 non-null  object \n",
      " 28  Education                30370 non-null  object \n",
      "dtypes: float64(6), int64(13), object(10)\n",
      "memory usage: 13.9+ MB\n"
     ]
    }
   ],
   "source": [
    "df.info()"
   ],
   "metadata": {
    "collapsed": false,
    "ExecuteTime": {
     "start_time": "2023-05-11T11:16:13.427330Z",
     "end_time": "2023-05-11T11:16:13.643167Z"
    }
   }
  },
  {
   "cell_type": "code",
   "execution_count": 32,
   "outputs": [
    {
     "data": {
      "text/plain": "       totalyearlycompensation  yearsofexperience  yearsatcompany  \\\ncount             6.264200e+04       62642.000000    62642.000000   \nmean              2.163004e+05           7.204135        2.702093   \nstd               1.380337e+05           5.840375        3.263656   \nmin               1.000000e+04           0.000000        0.000000   \n25%               1.350000e+05           3.000000        0.000000   \n50%               1.880000e+05           6.000000        2.000000   \n75%               2.640000e+05          10.000000        4.000000   \nmax               4.980000e+06          69.000000       69.000000   \n\n         basesalary  stockgrantvalue           bonus        cityid  \\\ncount  6.264200e+04     6.264200e+04    62642.000000  62642.000000   \nmean   1.366873e+05     5.148608e+04    19334.746588   9856.201989   \nstd    6.136928e+04     8.187457e+04    26781.292040   6679.104563   \nmin    0.000000e+00     0.000000e+00        0.000000      0.000000   \n25%    1.080000e+05     0.000000e+00     1000.000000   7369.000000   \n50%    1.400000e+05     2.500000e+04    14000.000000   7839.000000   \n75%    1.700000e+05     6.500000e+04    26000.000000  11521.000000   \nmax    1.659870e+06     2.800000e+06  1000000.000000  47926.000000   \n\n              dmaid     rowNumber  Masters_Degree  Bachelors_Degree  \\\ncount  62640.000000  62642.000000    62642.000000      62642.000000   \nmean     616.097222  41694.723732        0.245698          0.201223   \nstd      289.843390  24488.865879        0.430504          0.400917   \nmin        0.000000      1.000000        0.000000          0.000000   \n25%      506.000000  20069.250000        0.000000          0.000000   \n50%      807.000000  42019.000000        0.000000          0.000000   \n75%      807.000000  63021.750000        0.000000          0.000000   \nmax      881.000000  83875.000000        1.000000          1.000000   \n\n       Doctorate_Degree    Highschool  Some_College    Race_Asian  \\\ncount      62642.000000  62642.000000  62642.000000  62642.000000   \nmean           0.028783      0.005108      0.005667      0.187925   \nstd            0.167196      0.071291      0.075067      0.390655   \nmin            0.000000      0.000000      0.000000      0.000000   \n25%            0.000000      0.000000      0.000000      0.000000   \n50%            0.000000      0.000000      0.000000      0.000000   \n75%            0.000000      0.000000      0.000000      0.000000   \nmax            1.000000      1.000000      1.000000      1.000000   \n\n         Race_White  Race_Two_Or_More    Race_Black  Race_Hispanic  \ncount  62642.000000      62642.000000  62642.000000   62642.000000  \nmean       0.128221          0.012835      0.011015       0.018039  \nstd        0.334338          0.112562      0.104373       0.133094  \nmin        0.000000          0.000000      0.000000       0.000000  \n25%        0.000000          0.000000      0.000000       0.000000  \n50%        0.000000          0.000000      0.000000       0.000000  \n75%        0.000000          0.000000      0.000000       0.000000  \nmax        1.000000          1.000000      1.000000       1.000000  ",
      "text/html": "<div>\n<style scoped>\n    .dataframe tbody tr th:only-of-type {\n        vertical-align: middle;\n    }\n\n    .dataframe tbody tr th {\n        vertical-align: top;\n    }\n\n    .dataframe thead th {\n        text-align: right;\n    }\n</style>\n<table border=\"1\" class=\"dataframe\">\n  <thead>\n    <tr style=\"text-align: right;\">\n      <th></th>\n      <th>totalyearlycompensation</th>\n      <th>yearsofexperience</th>\n      <th>yearsatcompany</th>\n      <th>basesalary</th>\n      <th>stockgrantvalue</th>\n      <th>bonus</th>\n      <th>cityid</th>\n      <th>dmaid</th>\n      <th>rowNumber</th>\n      <th>Masters_Degree</th>\n      <th>Bachelors_Degree</th>\n      <th>Doctorate_Degree</th>\n      <th>Highschool</th>\n      <th>Some_College</th>\n      <th>Race_Asian</th>\n      <th>Race_White</th>\n      <th>Race_Two_Or_More</th>\n      <th>Race_Black</th>\n      <th>Race_Hispanic</th>\n    </tr>\n  </thead>\n  <tbody>\n    <tr>\n      <th>count</th>\n      <td>6.264200e+04</td>\n      <td>62642.000000</td>\n      <td>62642.000000</td>\n      <td>6.264200e+04</td>\n      <td>6.264200e+04</td>\n      <td>62642.000000</td>\n      <td>62642.000000</td>\n      <td>62640.000000</td>\n      <td>62642.000000</td>\n      <td>62642.000000</td>\n      <td>62642.000000</td>\n      <td>62642.000000</td>\n      <td>62642.000000</td>\n      <td>62642.000000</td>\n      <td>62642.000000</td>\n      <td>62642.000000</td>\n      <td>62642.000000</td>\n      <td>62642.000000</td>\n      <td>62642.000000</td>\n    </tr>\n    <tr>\n      <th>mean</th>\n      <td>2.163004e+05</td>\n      <td>7.204135</td>\n      <td>2.702093</td>\n      <td>1.366873e+05</td>\n      <td>5.148608e+04</td>\n      <td>19334.746588</td>\n      <td>9856.201989</td>\n      <td>616.097222</td>\n      <td>41694.723732</td>\n      <td>0.245698</td>\n      <td>0.201223</td>\n      <td>0.028783</td>\n      <td>0.005108</td>\n      <td>0.005667</td>\n      <td>0.187925</td>\n      <td>0.128221</td>\n      <td>0.012835</td>\n      <td>0.011015</td>\n      <td>0.018039</td>\n    </tr>\n    <tr>\n      <th>std</th>\n      <td>1.380337e+05</td>\n      <td>5.840375</td>\n      <td>3.263656</td>\n      <td>6.136928e+04</td>\n      <td>8.187457e+04</td>\n      <td>26781.292040</td>\n      <td>6679.104563</td>\n      <td>289.843390</td>\n      <td>24488.865879</td>\n      <td>0.430504</td>\n      <td>0.400917</td>\n      <td>0.167196</td>\n      <td>0.071291</td>\n      <td>0.075067</td>\n      <td>0.390655</td>\n      <td>0.334338</td>\n      <td>0.112562</td>\n      <td>0.104373</td>\n      <td>0.133094</td>\n    </tr>\n    <tr>\n      <th>min</th>\n      <td>1.000000e+04</td>\n      <td>0.000000</td>\n      <td>0.000000</td>\n      <td>0.000000e+00</td>\n      <td>0.000000e+00</td>\n      <td>0.000000</td>\n      <td>0.000000</td>\n      <td>0.000000</td>\n      <td>1.000000</td>\n      <td>0.000000</td>\n      <td>0.000000</td>\n      <td>0.000000</td>\n      <td>0.000000</td>\n      <td>0.000000</td>\n      <td>0.000000</td>\n      <td>0.000000</td>\n      <td>0.000000</td>\n      <td>0.000000</td>\n      <td>0.000000</td>\n    </tr>\n    <tr>\n      <th>25%</th>\n      <td>1.350000e+05</td>\n      <td>3.000000</td>\n      <td>0.000000</td>\n      <td>1.080000e+05</td>\n      <td>0.000000e+00</td>\n      <td>1000.000000</td>\n      <td>7369.000000</td>\n      <td>506.000000</td>\n      <td>20069.250000</td>\n      <td>0.000000</td>\n      <td>0.000000</td>\n      <td>0.000000</td>\n      <td>0.000000</td>\n      <td>0.000000</td>\n      <td>0.000000</td>\n      <td>0.000000</td>\n      <td>0.000000</td>\n      <td>0.000000</td>\n      <td>0.000000</td>\n    </tr>\n    <tr>\n      <th>50%</th>\n      <td>1.880000e+05</td>\n      <td>6.000000</td>\n      <td>2.000000</td>\n      <td>1.400000e+05</td>\n      <td>2.500000e+04</td>\n      <td>14000.000000</td>\n      <td>7839.000000</td>\n      <td>807.000000</td>\n      <td>42019.000000</td>\n      <td>0.000000</td>\n      <td>0.000000</td>\n      <td>0.000000</td>\n      <td>0.000000</td>\n      <td>0.000000</td>\n      <td>0.000000</td>\n      <td>0.000000</td>\n      <td>0.000000</td>\n      <td>0.000000</td>\n      <td>0.000000</td>\n    </tr>\n    <tr>\n      <th>75%</th>\n      <td>2.640000e+05</td>\n      <td>10.000000</td>\n      <td>4.000000</td>\n      <td>1.700000e+05</td>\n      <td>6.500000e+04</td>\n      <td>26000.000000</td>\n      <td>11521.000000</td>\n      <td>807.000000</td>\n      <td>63021.750000</td>\n      <td>0.000000</td>\n      <td>0.000000</td>\n      <td>0.000000</td>\n      <td>0.000000</td>\n      <td>0.000000</td>\n      <td>0.000000</td>\n      <td>0.000000</td>\n      <td>0.000000</td>\n      <td>0.000000</td>\n      <td>0.000000</td>\n    </tr>\n    <tr>\n      <th>max</th>\n      <td>4.980000e+06</td>\n      <td>69.000000</td>\n      <td>69.000000</td>\n      <td>1.659870e+06</td>\n      <td>2.800000e+06</td>\n      <td>1000000.000000</td>\n      <td>47926.000000</td>\n      <td>881.000000</td>\n      <td>83875.000000</td>\n      <td>1.000000</td>\n      <td>1.000000</td>\n      <td>1.000000</td>\n      <td>1.000000</td>\n      <td>1.000000</td>\n      <td>1.000000</td>\n      <td>1.000000</td>\n      <td>1.000000</td>\n      <td>1.000000</td>\n      <td>1.000000</td>\n    </tr>\n  </tbody>\n</table>\n</div>"
     },
     "execution_count": 32,
     "metadata": {},
     "output_type": "execute_result"
    }
   ],
   "source": [
    "df.describe()"
   ],
   "metadata": {
    "collapsed": false,
    "ExecuteTime": {
     "start_time": "2023-05-11T11:16:13.559164Z",
     "end_time": "2023-05-11T11:16:13.647881Z"
    }
   }
  },
  {
   "cell_type": "code",
   "execution_count": 33,
   "outputs": [
    {
     "data": {
      "text/plain": "Software Engineer               41231\nProduct Manager                  4673\nSoftware Engineering Manager     3569\nData Scientist                   2578\nHardware Engineer                2200\nProduct Designer                 1516\nTechnical Program Manager        1381\nSolution Architect               1157\nManagement Consultant             976\nBusiness Analyst                  885\nName: title, dtype: int64"
     },
     "execution_count": 33,
     "metadata": {},
     "output_type": "execute_result"
    }
   ],
   "source": [
    "noTechnical_titles = ['Marketing', 'Mechanical Engineer', 'Sales', 'Recruiter', 'Human Resources']\n",
    "df_original = df.copy()\n",
    "df = df[df['title'].apply(lambda i: i not in noTechnical_titles)] #vymaže netechnické pozice v datasetu.\n",
    "df.title.value_counts()"
   ],
   "metadata": {
    "collapsed": false,
    "ExecuteTime": {
     "start_time": "2023-05-11T11:16:13.632780Z",
     "end_time": "2023-05-11T11:16:13.738563Z"
    }
   }
  },
  {
   "cell_type": "code",
   "execution_count": 34,
   "outputs": [],
   "source": [
    "df['gender'].unique()\n",
    "df['gender'].replace({'Title: Senior Software Engineer': 'Unknown'}, inplace=True)\n",
    "#vymazaní státem neuznávaná pohlaví"
   ],
   "metadata": {
    "collapsed": false,
    "ExecuteTime": {
     "start_time": "2023-05-11T11:16:13.693431Z",
     "end_time": "2023-05-11T11:16:13.739870Z"
    }
   }
  },
  {
   "cell_type": "code",
   "execution_count": null,
   "outputs": [],
   "source": [
    "stem_salaries = df.fillna({'company':'Unknown', 'gender':'Unknown','Race': 'Unknown', 'Education': 'Unknown'}, inplace = True) # všechny nevyplněný sloupce vyplníme hotnotou \"Unknown\"\n",
    "df.isnull().sum()"
   ],
   "metadata": {
    "collapsed": false,
    "ExecuteTime": {
     "start_time": "2023-05-11T08:36:30.091762Z",
     "end_time": "2023-05-11T08:36:30.453125Z"
    },
    "pycharm": {
     "is_executing": true
    }
   }
  },
  {
   "cell_type": "code",
   "execution_count": null,
   "outputs": [],
   "source": [
    "# Pojďme se podívat v jakém poměru jsou zastoupena jednotlivá pohlaví ve firmách\n",
    "gender = df['gender'].value_counts().plot.pie(figsize = (10,9),radius=1,shadow=False, label = '', autopct='%1.f%%')\n",
    "plt.title(\"Genders ratios\", size = 15)\n",
    "plt.show()\n"
   ],
   "metadata": {
    "collapsed": false,
    "ExecuteTime": {
     "start_time": "2023-05-11T08:36:30.179828Z",
     "end_time": "2023-05-11T08:36:30.465241Z"
    },
    "pycharm": {
     "is_executing": true
    }
   }
  },
  {
   "cell_type": "code",
   "execution_count": null,
   "outputs": [],
   "source": [
    "cities = df.location.value_counts().head(10).sort_values(ascending=True) #Města s nejvíce firmami\n",
    "cities.plot.barh(figsize = (11,8),color='Violet')\n",
    "plt.title(\"Cities with most companies\" ,size=20)\n",
    "plt.xlabel(\"City\" ,size= 15)\n",
    "plt.ylabel(\"Number of companies\", size = 15)\n",
    "plt.show()"
   ],
   "metadata": {
    "collapsed": false,
    "ExecuteTime": {
     "start_time": "2023-05-11T08:36:30.252093Z",
     "end_time": "2023-05-11T08:36:30.687550Z"
    },
    "pycharm": {
     "is_executing": true
    }
   }
  },
  {
   "cell_type": "code",
   "execution_count": null,
   "outputs": [],
   "source": [
    "top_saleries = df[['basesalary','title','company']].sort_values(by='basesalary',ascending=False).head(20) # 10 lidí j největším platem.\n",
    "top_saleries"
   ],
   "metadata": {
    "collapsed": false,
    "ExecuteTime": {
     "start_time": "2023-05-11T08:36:30.360631Z",
     "end_time": "2023-05-11T08:36:30.780914Z"
    },
    "pycharm": {
     "is_executing": true
    }
   }
  },
  {
   "cell_type": "code",
   "execution_count": null,
   "outputs": [],
   "source": [],
   "metadata": {
    "collapsed": false,
    "ExecuteTime": {
     "start_time": "2023-05-11T08:36:30.374085Z",
     "end_time": "2023-05-11T08:36:30.781478Z"
    },
    "pycharm": {
     "is_executing": true
    }
   }
  },
  {
   "cell_type": "code",
   "execution_count": null,
   "outputs": [],
   "source": [
    "df['count'] = 1\n",
    "most_common_companies =(\n",
    "                    df.groupby(['company'])\n",
    "                    .count()\n",
    "                    .sort_values(by='count', ascending=False)\n",
    "                    .head(20)\n",
    "                    .reset_index()\n",
    "                    )\n",
    "most_common_companies[['company', 'count']] #Firmy s nejvyšším zastoupením zaměstnanců.\n",
    "\n",
    "\n"
   ],
   "metadata": {
    "collapsed": false,
    "ExecuteTime": {
     "start_time": "2023-05-11T08:36:30.381946Z",
     "end_time": "2023-05-11T08:36:30.802325Z"
    },
    "pycharm": {
     "is_executing": true
    }
   }
  },
  {
   "cell_type": "code",
   "execution_count": null,
   "outputs": [],
   "source": [
    "explode = [0, 0, 0.1, 0.2, 0.3]\n",
    "education = df.Education.value_counts().plot.pie(figsize = (10,9),radius=1,shadow=False, label = '', autopct='%1.f%%')\n",
    "plt.title('Education', size=20)\n",
    "plt.show()"
   ],
   "metadata": {
    "collapsed": false,
    "ExecuteTime": {
     "start_time": "2023-05-11T08:36:30.461817Z",
     "end_time": "2023-05-11T08:36:30.809245Z"
    },
    "pycharm": {
     "is_executing": true
    }
   }
  },
  {
   "cell_type": "code",
   "execution_count": null,
   "outputs": [],
   "source": [
    "\n",
    "most_common_jobs = df.title.value_counts().sort_values(ascending = True)#nejčastější pozice\n",
    "most_common_jobs.plot.barh(figsize = (11,8),color='maroon')\n",
    "plt.title(\"Most common jobs\" ,size=20)\n",
    "plt.xlabel(\"Count\" ,size= 15)\n",
    "plt.ylabel(\"Job title\", size = 15)\n",
    "plt.show()"
   ],
   "metadata": {
    "collapsed": false,
    "ExecuteTime": {
     "start_time": "2023-05-11T08:36:30.616910Z",
     "end_time": "2023-05-11T08:36:31.231612Z"
    },
    "pycharm": {
     "is_executing": true
    }
   }
  },
  {
   "cell_type": "code",
   "execution_count": null,
   "outputs": [],
   "source": [
    "#Pojďmě zjistit s jakým vzděláním lidé vydělavají nejvíve peněz\n",
    "pay_education = df[['totalyearlycompensation','Education']].groupby(['Education']) .mean().sort_values('totalyearlycompensation', ascending = True)\n",
    "pay_education.plot.barh(figsize= (10,8),legend = False, color = \"orange\")\n",
    "plt.xlabel('Salary ($)', size = 16)\n",
    "plt.ylabel('Education', size = 16)"
   ],
   "metadata": {
    "collapsed": false,
    "ExecuteTime": {
     "start_time": "2023-05-11T08:36:30.753896Z",
     "end_time": "2023-05-11T08:36:31.277533Z"
    },
    "pycharm": {
     "is_executing": true
    }
   }
  },
  {
   "cell_type": "code",
   "execution_count": null,
   "outputs": [],
   "source": [
    "\n",
    "plt.figure(figsize=(12,8))\n",
    "df['Race'].value_counts().plot(kind=\"bar\", color = \"Blue\")\n",
    "plt.title(\"Race\", size = 16)\n",
    "plt.ylabel(\"Number of workers\", size = 13)\n",
    "plt.show()"
   ],
   "metadata": {
    "collapsed": false,
    "ExecuteTime": {
     "start_time": "2023-05-11T08:36:30.826546Z",
     "end_time": "2023-05-11T08:36:31.317896Z"
    },
    "pycharm": {
     "is_executing": true
    }
   }
  },
  {
   "cell_type": "code",
   "execution_count": null,
   "outputs": [],
   "source": [
    "#Zjistěme firmy které platí svým zaměstnancům nejvíce peněz\n",
    "higest_paying_companies = df[['totalyearlycompensation','company']].groupby(['company']).max().sort_values('totalyearlycompensation',ascending= False).head(10)\n",
    "higest_paying_companies.plot.barh(figsize = (12,10, ), legend = False)\n",
    "plt.title('Most paying companies')\n",
    "plt.xlabel('Wage costs in millions ($)', size = 15)\n",
    "plt.ylabel('Company', size = 15)"
   ],
   "metadata": {
    "collapsed": false,
    "ExecuteTime": {
     "start_time": "2023-05-11T08:36:30.911360Z",
     "end_time": "2023-05-11T08:36:31.366081Z"
    },
    "pycharm": {
     "is_executing": true
    }
   }
  },
  {
   "cell_type": "code",
   "execution_count": null,
   "outputs": [],
   "source": [
    "years_at_company = df['yearsatcompany'].value_counts().head(10).sort_values(ascending=True)\n",
    "years_at_company.plot.barh(figsize = (14,10), color = \"Gray\")\n",
    "\n",
    "plt.show()"
   ],
   "metadata": {
    "collapsed": false,
    "ExecuteTime": {
     "start_time": "2023-05-11T08:36:31.018203Z",
     "end_time": "2023-05-11T08:36:31.455748Z"
    },
    "pycharm": {
     "is_executing": true
    }
   }
  },
  {
   "cell_type": "code",
   "execution_count": null,
   "outputs": [],
   "source": [
    "df['gender'].value_counts()"
   ],
   "metadata": {
    "collapsed": false,
    "ExecuteTime": {
     "start_time": "2023-05-11T08:36:31.118396Z",
     "end_time": "2023-05-11T08:36:31.456580Z"
    },
    "pycharm": {
     "is_executing": true
    }
   }
  },
  {
   "cell_type": "code",
   "execution_count": null,
   "outputs": [],
   "source": [],
   "metadata": {
    "collapsed": false,
    "ExecuteTime": {
     "start_time": "2023-05-11T08:36:31.121947Z",
     "end_time": "2023-05-11T08:36:31.456710Z"
    },
    "pycharm": {
     "is_executing": true
    }
   }
  }
 ],
 "metadata": {
  "kernelspec": {
   "display_name": "Python 3 (ipykernel)",
   "language": "python",
   "name": "python3"
  },
  "language_info": {
   "codemirror_mode": {
    "name": "ipython",
    "version": 3
   },
   "file_extension": ".py",
   "mimetype": "text/x-python",
   "name": "python",
   "nbconvert_exporter": "python",
   "pygments_lexer": "ipython3",
   "version": "3.9.13"
  }
 },
 "nbformat": 4,
 "nbformat_minor": 5
}
