{
 "cells": [
  {
   "cell_type": "code",
   "execution_count": 1,
   "id": "b1cb04a6",
   "metadata": {
    "ExecuteTime": {
     "start_time": "2023-03-31T14:08:57.781656Z",
     "end_time": "2023-03-31T14:08:59.535781Z"
    }
   },
   "outputs": [
    {
     "data": {
      "text/plain": "Index(['timestamp', 'company', 'level', 'title', 'totalyearlycompensation',\n       'location', 'yearsofexperience', 'yearsatcompany', 'tag', 'basesalary',\n       'stockgrantvalue', 'bonus', 'gender', 'otherdetails', 'cityid', 'dmaid',\n       'rowNumber', 'Masters_Degree', 'Bachelors_Degree', 'Doctorate_Degree',\n       'Highschool', 'Some_College', 'Race_Asian', 'Race_White',\n       'Race_Two_Or_More', 'Race_Black', 'Race_Hispanic', 'Race', 'Education'],\n      dtype='object')"
     },
     "execution_count": 1,
     "metadata": {},
     "output_type": "execute_result"
    }
   ],
   "source": [
    "import pandas as pd\n",
    "df = pd.read_csv('dataPlaty.csv')\n",
    "df.columns"
   ]
  },
  {
   "cell_type": "code",
   "execution_count": 2,
   "outputs": [
    {
     "data": {
      "text/plain": "Male                               35702\nFemale                              6999\nOther                                400\nTitle: Senior Software Engineer        1\nName: gender, dtype: int64"
     },
     "execution_count": 2,
     "metadata": {},
     "output_type": "execute_result"
    }
   ],
   "source": [
    "df.gender.value_counts()"
   ],
   "metadata": {
    "collapsed": false
   }
  },
  {
   "cell_type": "code",
   "execution_count": 5,
   "outputs": [
    {
     "data": {
      "text/plain": "Software Engineer               41231\nProduct Manager                  4673\nSoftware Engineering Manager     3569\nData Scientist                   2578\nHardware Engineer                2200\nProduct Designer                 1516\nTechnical Program Manager        1381\nSolution Architect               1157\nManagement Consultant             976\nBusiness Analyst                  885\nMarketing                         710\nMechanical Engineer               490\nSales                             461\nRecruiter                         451\nHuman Resources                   364\nName: title, dtype: int64"
     },
     "execution_count": 5,
     "metadata": {},
     "output_type": "execute_result"
    }
   ],
   "source": [
    "df.title.value_counts()"
   ],
   "metadata": {
    "collapsed": false
   }
  },
  {
   "cell_type": "code",
   "execution_count": 5,
   "outputs": [
    {
     "data": {
      "text/plain": "Male                               35702\nFemale                              6999\nOther                                400\nTitle: Senior Software Engineer        1\nName: gender, dtype: int64"
     },
     "execution_count": 5,
     "metadata": {},
     "output_type": "execute_result"
    }
   ],
   "source": [
    "df.gender.value_counts()"
   ],
   "metadata": {
    "collapsed": false,
    "ExecuteTime": {
     "start_time": "2023-03-31T14:11:35.030391Z",
     "end_time": "2023-03-31T14:11:35.062131Z"
    }
   }
  },
  {
   "cell_type": "code",
   "execution_count": 7,
   "outputs": [
    {
     "data": {
      "text/plain": "Master's Degree      15391\nBachelor's Degree    12601\nPhD                   1703\nSome College           355\nHighschool             320\nName: Education, dtype: int64"
     },
     "execution_count": 7,
     "metadata": {},
     "output_type": "execute_result"
    }
   ],
   "source": [
    "df.Education.value_counts() #"
   ],
   "metadata": {
    "collapsed": false,
    "ExecuteTime": {
     "start_time": "2023-03-31T14:26:28.181610Z",
     "end_time": "2023-03-31T14:26:28.247203Z"
    }
   }
  },
  {
   "cell_type": "code",
   "execution_count": 8,
   "outputs": [],
   "source": [
    "df['gender'].unique()\n",
    "df['gender'].replace('Title: Senior Software Engineer', inplace=True)\n",
    "df['gender'].replace('Unknown', inplace=True )\n",
    "#vymazaní státem neuznávaná pohlaví"
   ],
   "metadata": {
    "collapsed": false,
    "ExecuteTime": {
     "start_time": "2023-04-01T08:07:33.041519Z",
     "end_time": "2023-04-01T08:07:33.106649Z"
    }
   }
  },
  {
   "cell_type": "code",
   "execution_count": 23,
   "outputs": [
    {
     "data": {
      "text/plain": "           company  count\n0           Amazon   8126\n1        Microsoft   5216\n2           Google   4330\n3         Facebook   2990\n4            Apple   2028\n5           Oracle   1128\n6       Salesforce   1056\n7            Intel    949\n8              IBM    907\n9            Cisco    907\n10            Uber    880\n11     Capital One    778\n12        LinkedIn    701\n13          VMware    657\n14        Qualcomm    565\n15  JPMorgan Chase    541\n16       Bloomberg    537\n17   Goldman Sachs    469\n18          Intuit    449\n19          PayPal    426",
      "text/html": "<div>\n<style scoped>\n    .dataframe tbody tr th:only-of-type {\n        vertical-align: middle;\n    }\n\n    .dataframe tbody tr th {\n        vertical-align: top;\n    }\n\n    .dataframe thead th {\n        text-align: right;\n    }\n</style>\n<table border=\"1\" class=\"dataframe\">\n  <thead>\n    <tr style=\"text-align: right;\">\n      <th></th>\n      <th>company</th>\n      <th>count</th>\n    </tr>\n  </thead>\n  <tbody>\n    <tr>\n      <th>0</th>\n      <td>Amazon</td>\n      <td>8126</td>\n    </tr>\n    <tr>\n      <th>1</th>\n      <td>Microsoft</td>\n      <td>5216</td>\n    </tr>\n    <tr>\n      <th>2</th>\n      <td>Google</td>\n      <td>4330</td>\n    </tr>\n    <tr>\n      <th>3</th>\n      <td>Facebook</td>\n      <td>2990</td>\n    </tr>\n    <tr>\n      <th>4</th>\n      <td>Apple</td>\n      <td>2028</td>\n    </tr>\n    <tr>\n      <th>5</th>\n      <td>Oracle</td>\n      <td>1128</td>\n    </tr>\n    <tr>\n      <th>6</th>\n      <td>Salesforce</td>\n      <td>1056</td>\n    </tr>\n    <tr>\n      <th>7</th>\n      <td>Intel</td>\n      <td>949</td>\n    </tr>\n    <tr>\n      <th>8</th>\n      <td>IBM</td>\n      <td>907</td>\n    </tr>\n    <tr>\n      <th>9</th>\n      <td>Cisco</td>\n      <td>907</td>\n    </tr>\n    <tr>\n      <th>10</th>\n      <td>Uber</td>\n      <td>880</td>\n    </tr>\n    <tr>\n      <th>11</th>\n      <td>Capital One</td>\n      <td>778</td>\n    </tr>\n    <tr>\n      <th>12</th>\n      <td>LinkedIn</td>\n      <td>701</td>\n    </tr>\n    <tr>\n      <th>13</th>\n      <td>VMware</td>\n      <td>657</td>\n    </tr>\n    <tr>\n      <th>14</th>\n      <td>Qualcomm</td>\n      <td>565</td>\n    </tr>\n    <tr>\n      <th>15</th>\n      <td>JPMorgan Chase</td>\n      <td>541</td>\n    </tr>\n    <tr>\n      <th>16</th>\n      <td>Bloomberg</td>\n      <td>537</td>\n    </tr>\n    <tr>\n      <th>17</th>\n      <td>Goldman Sachs</td>\n      <td>469</td>\n    </tr>\n    <tr>\n      <th>18</th>\n      <td>Intuit</td>\n      <td>449</td>\n    </tr>\n    <tr>\n      <th>19</th>\n      <td>PayPal</td>\n      <td>426</td>\n    </tr>\n  </tbody>\n</table>\n</div>"
     },
     "execution_count": 23,
     "metadata": {},
     "output_type": "execute_result"
    }
   ],
   "source": [
    "df['count'] = 1\n",
    "most_common_companies =(\n",
    "                    df.groupby(['company'])\n",
    "                    .count()\n",
    "                    .sort_values(by='count', ascending=False)\n",
    "                    .head(20)\n",
    "                    .reset_index()\n",
    "                    )\n",
    "most_common_companies[['company', 'count']]"
   ],
   "metadata": {
    "collapsed": false,
    "ExecuteTime": {
     "start_time": "2023-04-01T08:14:59.531691Z",
     "end_time": "2023-04-01T08:14:59.607565Z"
    }
   }
  },
  {
   "cell_type": "code",
   "execution_count": 37,
   "outputs": [
    {
     "data": {
      "text/plain": "       basesalary                         title            company\n62351   1659870.0               Product Manager          Microsoft\n61851   1620000.0             Software Engineer        Squarespace\n45054    900000.0         Management Consultant                PwC\n56175    893000.0             Software Engineer            Netflix\n57701    861000.0             Software Engineer            Netflix\n61967    850000.0  Software Engineering Manager          Microsoft\n56529    840000.0             Software Engineer            Netflix\n37462    800000.0  Software Engineering Manager            Netflix\n36746    800000.0             Software Engineer            Netflix\n16640    800000.0               Product Manager            Netflix\n45210    794000.0               Product Manager  HERE Technologies\n38957    760000.0             Software Engineer            Netflix\n12177    750000.0             Software Engineer            Netflix\n30642    750000.0                     Marketing            Netflix\n40726    715000.0             Software Engineer            Netflix\n35536    700000.0             Software Engineer            Netflix\n37231    700000.0             Software Engineer            Netflix\n57518    700000.0  Software Engineering Manager            Netflix\n14417    700000.0                Data Scientist            Netflix\n29811    700000.0  Software Engineering Manager            Netflix",
      "text/html": "<div>\n<style scoped>\n    .dataframe tbody tr th:only-of-type {\n        vertical-align: middle;\n    }\n\n    .dataframe tbody tr th {\n        vertical-align: top;\n    }\n\n    .dataframe thead th {\n        text-align: right;\n    }\n</style>\n<table border=\"1\" class=\"dataframe\">\n  <thead>\n    <tr style=\"text-align: right;\">\n      <th></th>\n      <th>basesalary</th>\n      <th>title</th>\n      <th>company</th>\n    </tr>\n  </thead>\n  <tbody>\n    <tr>\n      <th>62351</th>\n      <td>1659870.0</td>\n      <td>Product Manager</td>\n      <td>Microsoft</td>\n    </tr>\n    <tr>\n      <th>61851</th>\n      <td>1620000.0</td>\n      <td>Software Engineer</td>\n      <td>Squarespace</td>\n    </tr>\n    <tr>\n      <th>45054</th>\n      <td>900000.0</td>\n      <td>Management Consultant</td>\n      <td>PwC</td>\n    </tr>\n    <tr>\n      <th>56175</th>\n      <td>893000.0</td>\n      <td>Software Engineer</td>\n      <td>Netflix</td>\n    </tr>\n    <tr>\n      <th>57701</th>\n      <td>861000.0</td>\n      <td>Software Engineer</td>\n      <td>Netflix</td>\n    </tr>\n    <tr>\n      <th>61967</th>\n      <td>850000.0</td>\n      <td>Software Engineering Manager</td>\n      <td>Microsoft</td>\n    </tr>\n    <tr>\n      <th>56529</th>\n      <td>840000.0</td>\n      <td>Software Engineer</td>\n      <td>Netflix</td>\n    </tr>\n    <tr>\n      <th>37462</th>\n      <td>800000.0</td>\n      <td>Software Engineering Manager</td>\n      <td>Netflix</td>\n    </tr>\n    <tr>\n      <th>36746</th>\n      <td>800000.0</td>\n      <td>Software Engineer</td>\n      <td>Netflix</td>\n    </tr>\n    <tr>\n      <th>16640</th>\n      <td>800000.0</td>\n      <td>Product Manager</td>\n      <td>Netflix</td>\n    </tr>\n    <tr>\n      <th>45210</th>\n      <td>794000.0</td>\n      <td>Product Manager</td>\n      <td>HERE Technologies</td>\n    </tr>\n    <tr>\n      <th>38957</th>\n      <td>760000.0</td>\n      <td>Software Engineer</td>\n      <td>Netflix</td>\n    </tr>\n    <tr>\n      <th>12177</th>\n      <td>750000.0</td>\n      <td>Software Engineer</td>\n      <td>Netflix</td>\n    </tr>\n    <tr>\n      <th>30642</th>\n      <td>750000.0</td>\n      <td>Marketing</td>\n      <td>Netflix</td>\n    </tr>\n    <tr>\n      <th>40726</th>\n      <td>715000.0</td>\n      <td>Software Engineer</td>\n      <td>Netflix</td>\n    </tr>\n    <tr>\n      <th>35536</th>\n      <td>700000.0</td>\n      <td>Software Engineer</td>\n      <td>Netflix</td>\n    </tr>\n    <tr>\n      <th>37231</th>\n      <td>700000.0</td>\n      <td>Software Engineer</td>\n      <td>Netflix</td>\n    </tr>\n    <tr>\n      <th>57518</th>\n      <td>700000.0</td>\n      <td>Software Engineering Manager</td>\n      <td>Netflix</td>\n    </tr>\n    <tr>\n      <th>14417</th>\n      <td>700000.0</td>\n      <td>Data Scientist</td>\n      <td>Netflix</td>\n    </tr>\n    <tr>\n      <th>29811</th>\n      <td>700000.0</td>\n      <td>Software Engineering Manager</td>\n      <td>Netflix</td>\n    </tr>\n  </tbody>\n</table>\n</div>"
     },
     "execution_count": 37,
     "metadata": {},
     "output_type": "execute_result"
    }
   ],
   "source": [
    "df[['basesalary','title','company']].sort_values(by='basesalary',ascending=False).head(20)"
   ],
   "metadata": {
    "collapsed": false,
    "ExecuteTime": {
     "start_time": "2023-04-01T08:39:43.975549Z",
     "end_time": "2023-04-01T08:39:43.995575Z"
    }
   }
  },
  {
   "cell_type": "code",
   "execution_count": null,
   "outputs": [],
   "source": [],
   "metadata": {
    "collapsed": false
   }
  }
 ],
 "metadata": {
  "kernelspec": {
   "display_name": "Python 3 (ipykernel)",
   "language": "python",
   "name": "python3"
  },
  "language_info": {
   "codemirror_mode": {
    "name": "ipython",
    "version": 3
   },
   "file_extension": ".py",
   "mimetype": "text/x-python",
   "name": "python",
   "nbconvert_exporter": "python",
   "pygments_lexer": "ipython3",
   "version": "3.9.13"
  }
 },
 "nbformat": 4,
 "nbformat_minor": 5
}
