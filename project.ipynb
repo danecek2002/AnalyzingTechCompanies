{
 "cells": [
  {
   "cell_type": "code",
   "execution_count": 1,
   "outputs": [
    {
     "data": {
      "text/plain": "Index(['timestamp', 'company', 'level', 'title', 'totalyearlycompensation',\n       'location', 'yearsofexperience', 'yearsatcompany', 'tag', 'basesalary',\n       'stockgrantvalue', 'bonus', 'gender', 'otherdetails', 'cityid', 'dmaid',\n       'rowNumber', 'Masters_Degree', 'Bachelors_Degree', 'Doctorate_Degree',\n       'Highschool', 'Some_College', 'Race_Asian', 'Race_White',\n       'Race_Two_Or_More', 'Race_Black', 'Race_Hispanic', 'Race', 'Education'],\n      dtype='object')"
     },
     "execution_count": 1,
     "metadata": {},
     "output_type": "execute_result"
    }
   ],
   "source": [
    "import pandas as pd\n",
    "import matplotlib as mpl\n",
    "import matplotlib.pyplot as plt\n",
    "import numpy as np\n",
    "df = pd.read_csv('dataPlaty.csv')\n",
    "df.columns"
   ],
   "metadata": {
    "collapsed": false,
    "ExecuteTime": {
     "start_time": "2023-04-10T15:57:37.283182Z",
     "end_time": "2023-04-10T15:57:39.796960Z"
    }
   }
  },
  {
   "cell_type": "code",
   "execution_count": 40,
   "outputs": [
    {
     "name": "stdout",
     "output_type": "stream",
     "text": [
      "<class 'pandas.core.frame.DataFrame'>\n",
      "RangeIndex: 62642 entries, 0 to 62641\n",
      "Data columns (total 30 columns):\n",
      " #   Column                   Non-Null Count  Dtype  \n",
      "---  ------                   --------------  -----  \n",
      " 0   timestamp                62642 non-null  object \n",
      " 1   company                  62637 non-null  object \n",
      " 2   level                    62523 non-null  object \n",
      " 3   title                    62642 non-null  object \n",
      " 4   totalyearlycompensation  62642 non-null  int64  \n",
      " 5   location                 62642 non-null  object \n",
      " 6   yearsofexperience        62642 non-null  float64\n",
      " 7   yearsatcompany           62642 non-null  float64\n",
      " 8   tag                      61788 non-null  object \n",
      " 9   basesalary               62642 non-null  float64\n",
      " 10  stockgrantvalue          62642 non-null  float64\n",
      " 11  bonus                    62642 non-null  float64\n",
      " 12  gender                   43102 non-null  object \n",
      " 13  otherdetails             40137 non-null  object \n",
      " 14  cityid                   62642 non-null  int64  \n",
      " 15  dmaid                    62640 non-null  float64\n",
      " 16  rowNumber                62642 non-null  int64  \n",
      " 17  Masters_Degree           62642 non-null  int64  \n",
      " 18  Bachelors_Degree         62642 non-null  int64  \n",
      " 19  Doctorate_Degree         62642 non-null  int64  \n",
      " 20  Highschool               62642 non-null  int64  \n",
      " 21  Some_College             62642 non-null  int64  \n",
      " 22  Race_Asian               62642 non-null  int64  \n",
      " 23  Race_White               62642 non-null  int64  \n",
      " 24  Race_Two_Or_More         62642 non-null  int64  \n",
      " 25  Race_Black               62642 non-null  int64  \n",
      " 26  Race_Hispanic            62642 non-null  int64  \n",
      " 27  Race                     22427 non-null  object \n",
      " 28  Education                30370 non-null  object \n",
      " 29  count                    62642 non-null  int64  \n",
      "dtypes: float64(6), int64(14), object(10)\n",
      "memory usage: 14.3+ MB\n"
     ]
    }
   ],
   "source": [
    "df.info()"
   ],
   "metadata": {
    "collapsed": false
   }
  },
  {
   "cell_type": "code",
   "execution_count": 42,
   "outputs": [
    {
     "data": {
      "text/plain": "       totalyearlycompensation  yearsofexperience  yearsatcompany  \\\ncount             6.264200e+04       62642.000000    62642.000000   \nmean              2.163004e+05           7.204135        2.702093   \nstd               1.380337e+05           5.840375        3.263656   \nmin               1.000000e+04           0.000000        0.000000   \n25%               1.350000e+05           3.000000        0.000000   \n50%               1.880000e+05           6.000000        2.000000   \n75%               2.640000e+05          10.000000        4.000000   \nmax               4.980000e+06          69.000000       69.000000   \n\n         basesalary  stockgrantvalue           bonus        cityid  \\\ncount  6.264200e+04     6.264200e+04    62642.000000  62642.000000   \nmean   1.366873e+05     5.148608e+04    19334.746588   9856.201989   \nstd    6.136928e+04     8.187457e+04    26781.292040   6679.104563   \nmin    0.000000e+00     0.000000e+00        0.000000      0.000000   \n25%    1.080000e+05     0.000000e+00     1000.000000   7369.000000   \n50%    1.400000e+05     2.500000e+04    14000.000000   7839.000000   \n75%    1.700000e+05     6.500000e+04    26000.000000  11521.000000   \nmax    1.659870e+06     2.800000e+06  1000000.000000  47926.000000   \n\n              dmaid     rowNumber  Masters_Degree  Bachelors_Degree  \\\ncount  62640.000000  62642.000000    62642.000000      62642.000000   \nmean     616.097222  41694.723732        0.245698          0.201223   \nstd      289.843390  24488.865879        0.430504          0.400917   \nmin        0.000000      1.000000        0.000000          0.000000   \n25%      506.000000  20069.250000        0.000000          0.000000   \n50%      807.000000  42019.000000        0.000000          0.000000   \n75%      807.000000  63021.750000        0.000000          0.000000   \nmax      881.000000  83875.000000        1.000000          1.000000   \n\n       Doctorate_Degree    Highschool  Some_College    Race_Asian  \\\ncount      62642.000000  62642.000000  62642.000000  62642.000000   \nmean           0.028783      0.005108      0.005667      0.187925   \nstd            0.167196      0.071291      0.075067      0.390655   \nmin            0.000000      0.000000      0.000000      0.000000   \n25%            0.000000      0.000000      0.000000      0.000000   \n50%            0.000000      0.000000      0.000000      0.000000   \n75%            0.000000      0.000000      0.000000      0.000000   \nmax            1.000000      1.000000      1.000000      1.000000   \n\n         Race_White  Race_Two_Or_More    Race_Black  Race_Hispanic    count  \ncount  62642.000000      62642.000000  62642.000000   62642.000000  62642.0  \nmean       0.128221          0.012835      0.011015       0.018039      1.0  \nstd        0.334338          0.112562      0.104373       0.133094      0.0  \nmin        0.000000          0.000000      0.000000       0.000000      1.0  \n25%        0.000000          0.000000      0.000000       0.000000      1.0  \n50%        0.000000          0.000000      0.000000       0.000000      1.0  \n75%        0.000000          0.000000      0.000000       0.000000      1.0  \nmax        1.000000          1.000000      1.000000       1.000000      1.0  ",
      "text/html": "<div>\n<style scoped>\n    .dataframe tbody tr th:only-of-type {\n        vertical-align: middle;\n    }\n\n    .dataframe tbody tr th {\n        vertical-align: top;\n    }\n\n    .dataframe thead th {\n        text-align: right;\n    }\n</style>\n<table border=\"1\" class=\"dataframe\">\n  <thead>\n    <tr style=\"text-align: right;\">\n      <th></th>\n      <th>totalyearlycompensation</th>\n      <th>yearsofexperience</th>\n      <th>yearsatcompany</th>\n      <th>basesalary</th>\n      <th>stockgrantvalue</th>\n      <th>bonus</th>\n      <th>cityid</th>\n      <th>dmaid</th>\n      <th>rowNumber</th>\n      <th>Masters_Degree</th>\n      <th>Bachelors_Degree</th>\n      <th>Doctorate_Degree</th>\n      <th>Highschool</th>\n      <th>Some_College</th>\n      <th>Race_Asian</th>\n      <th>Race_White</th>\n      <th>Race_Two_Or_More</th>\n      <th>Race_Black</th>\n      <th>Race_Hispanic</th>\n      <th>count</th>\n    </tr>\n  </thead>\n  <tbody>\n    <tr>\n      <th>count</th>\n      <td>6.264200e+04</td>\n      <td>62642.000000</td>\n      <td>62642.000000</td>\n      <td>6.264200e+04</td>\n      <td>6.264200e+04</td>\n      <td>62642.000000</td>\n      <td>62642.000000</td>\n      <td>62640.000000</td>\n      <td>62642.000000</td>\n      <td>62642.000000</td>\n      <td>62642.000000</td>\n      <td>62642.000000</td>\n      <td>62642.000000</td>\n      <td>62642.000000</td>\n      <td>62642.000000</td>\n      <td>62642.000000</td>\n      <td>62642.000000</td>\n      <td>62642.000000</td>\n      <td>62642.000000</td>\n      <td>62642.0</td>\n    </tr>\n    <tr>\n      <th>mean</th>\n      <td>2.163004e+05</td>\n      <td>7.204135</td>\n      <td>2.702093</td>\n      <td>1.366873e+05</td>\n      <td>5.148608e+04</td>\n      <td>19334.746588</td>\n      <td>9856.201989</td>\n      <td>616.097222</td>\n      <td>41694.723732</td>\n      <td>0.245698</td>\n      <td>0.201223</td>\n      <td>0.028783</td>\n      <td>0.005108</td>\n      <td>0.005667</td>\n      <td>0.187925</td>\n      <td>0.128221</td>\n      <td>0.012835</td>\n      <td>0.011015</td>\n      <td>0.018039</td>\n      <td>1.0</td>\n    </tr>\n    <tr>\n      <th>std</th>\n      <td>1.380337e+05</td>\n      <td>5.840375</td>\n      <td>3.263656</td>\n      <td>6.136928e+04</td>\n      <td>8.187457e+04</td>\n      <td>26781.292040</td>\n      <td>6679.104563</td>\n      <td>289.843390</td>\n      <td>24488.865879</td>\n      <td>0.430504</td>\n      <td>0.400917</td>\n      <td>0.167196</td>\n      <td>0.071291</td>\n      <td>0.075067</td>\n      <td>0.390655</td>\n      <td>0.334338</td>\n      <td>0.112562</td>\n      <td>0.104373</td>\n      <td>0.133094</td>\n      <td>0.0</td>\n    </tr>\n    <tr>\n      <th>min</th>\n      <td>1.000000e+04</td>\n      <td>0.000000</td>\n      <td>0.000000</td>\n      <td>0.000000e+00</td>\n      <td>0.000000e+00</td>\n      <td>0.000000</td>\n      <td>0.000000</td>\n      <td>0.000000</td>\n      <td>1.000000</td>\n      <td>0.000000</td>\n      <td>0.000000</td>\n      <td>0.000000</td>\n      <td>0.000000</td>\n      <td>0.000000</td>\n      <td>0.000000</td>\n      <td>0.000000</td>\n      <td>0.000000</td>\n      <td>0.000000</td>\n      <td>0.000000</td>\n      <td>1.0</td>\n    </tr>\n    <tr>\n      <th>25%</th>\n      <td>1.350000e+05</td>\n      <td>3.000000</td>\n      <td>0.000000</td>\n      <td>1.080000e+05</td>\n      <td>0.000000e+00</td>\n      <td>1000.000000</td>\n      <td>7369.000000</td>\n      <td>506.000000</td>\n      <td>20069.250000</td>\n      <td>0.000000</td>\n      <td>0.000000</td>\n      <td>0.000000</td>\n      <td>0.000000</td>\n      <td>0.000000</td>\n      <td>0.000000</td>\n      <td>0.000000</td>\n      <td>0.000000</td>\n      <td>0.000000</td>\n      <td>0.000000</td>\n      <td>1.0</td>\n    </tr>\n    <tr>\n      <th>50%</th>\n      <td>1.880000e+05</td>\n      <td>6.000000</td>\n      <td>2.000000</td>\n      <td>1.400000e+05</td>\n      <td>2.500000e+04</td>\n      <td>14000.000000</td>\n      <td>7839.000000</td>\n      <td>807.000000</td>\n      <td>42019.000000</td>\n      <td>0.000000</td>\n      <td>0.000000</td>\n      <td>0.000000</td>\n      <td>0.000000</td>\n      <td>0.000000</td>\n      <td>0.000000</td>\n      <td>0.000000</td>\n      <td>0.000000</td>\n      <td>0.000000</td>\n      <td>0.000000</td>\n      <td>1.0</td>\n    </tr>\n    <tr>\n      <th>75%</th>\n      <td>2.640000e+05</td>\n      <td>10.000000</td>\n      <td>4.000000</td>\n      <td>1.700000e+05</td>\n      <td>6.500000e+04</td>\n      <td>26000.000000</td>\n      <td>11521.000000</td>\n      <td>807.000000</td>\n      <td>63021.750000</td>\n      <td>0.000000</td>\n      <td>0.000000</td>\n      <td>0.000000</td>\n      <td>0.000000</td>\n      <td>0.000000</td>\n      <td>0.000000</td>\n      <td>0.000000</td>\n      <td>0.000000</td>\n      <td>0.000000</td>\n      <td>0.000000</td>\n      <td>1.0</td>\n    </tr>\n    <tr>\n      <th>max</th>\n      <td>4.980000e+06</td>\n      <td>69.000000</td>\n      <td>69.000000</td>\n      <td>1.659870e+06</td>\n      <td>2.800000e+06</td>\n      <td>1000000.000000</td>\n      <td>47926.000000</td>\n      <td>881.000000</td>\n      <td>83875.000000</td>\n      <td>1.000000</td>\n      <td>1.000000</td>\n      <td>1.000000</td>\n      <td>1.000000</td>\n      <td>1.000000</td>\n      <td>1.000000</td>\n      <td>1.000000</td>\n      <td>1.000000</td>\n      <td>1.000000</td>\n      <td>1.000000</td>\n      <td>1.0</td>\n    </tr>\n  </tbody>\n</table>\n</div>"
     },
     "execution_count": 42,
     "metadata": {},
     "output_type": "execute_result"
    }
   ],
   "source": [
    "df.describe()"
   ],
   "metadata": {
    "collapsed": false,
    "ExecuteTime": {
     "start_time": "2023-04-01T08:56:36.537242Z",
     "end_time": "2023-04-01T08:56:36.586804Z"
    }
   }
  },
  {
   "cell_type": "code",
   "execution_count": 2,
   "outputs": [
    {
     "data": {
      "text/plain": "Software Engineer               41231\nProduct Manager                  4673\nSoftware Engineering Manager     3569\nData Scientist                   2578\nHardware Engineer                2200\nProduct Designer                 1516\nTechnical Program Manager        1381\nSolution Architect               1157\nManagement Consultant             976\nBusiness Analyst                  885\nName: title, dtype: int64"
     },
     "execution_count": 2,
     "metadata": {},
     "output_type": "execute_result"
    }
   ],
   "source": [
    "noTechnical_titles = ['Marketing', 'Mechanical Engineer', 'Sales', 'Recruiter', 'Human Resources']\n",
    "df_original = df.copy()\n",
    "df = df[df['title'].apply(lambda i: i not in noTechnical_titles)]\n",
    "df.title.value_counts() #vymaže netechnické pozice v datasetu."
   ],
   "metadata": {
    "collapsed": false,
    "ExecuteTime": {
     "start_time": "2023-04-10T16:12:37.018221Z",
     "end_time": "2023-04-10T16:12:37.104420Z"
    }
   }
  },
  {
   "cell_type": "code",
   "execution_count": 8,
   "outputs": [],
   "source": [
    "df['gender'].unique()\n",
    "df['gender'].replace('Title: Senior Software Engineer', inplace=True)\n",
    "df['gender'].replace('Unknown', inplace=True )\n",
    "#vymazaní státem neuznávaná pohlaví"
   ],
   "metadata": {
    "collapsed": false
   }
  },
  {
   "cell_type": "code",
   "execution_count": 44,
   "outputs": [
    {
     "data": {
      "text/plain": "2020-02-25 13:25:07    3\n2019-01-10 21:44:02    3\n2019-10-25 10:26:31    3\n2019-08-18 04:59:01    2\n2019-09-06 06:49:56    2\n                      ..\n2020-05-14 01:52:06    1\n2020-05-14 02:40:13    1\n2020-05-14 03:03:59    1\n2020-05-14 04:12:43    1\n2019-01-29 05:12:59    1\nName: timestamp, Length: 62561, dtype: int64"
     },
     "execution_count": 44,
     "metadata": {},
     "output_type": "execute_result"
    }
   ],
   "source": [
    "df['timestamp'] = pd.to_datetime(df['timestamp'])\n",
    "date_value_counts = df['timestamp'].value_counts()\n",
    "date_value_counts"
   ],
   "metadata": {
    "collapsed": false
   }
  },
  {
   "cell_type": "code",
   "execution_count": 6,
   "outputs": [
    {
     "data": {
      "text/plain": "timestamp                      0\ncompany                        5\nlevel                        105\ntitle                          0\ntotalyearlycompensation        0\nlocation                       0\nyearsofexperience              0\nyearsatcompany                 0\ntag                          843\nbasesalary                     0\nstockgrantvalue                0\nbonus                          0\ngender                     18552\notherdetails               21871\ncityid                         0\ndmaid                          2\nrowNumber                      0\nMasters_Degree                 0\nBachelors_Degree               0\nDoctorate_Degree               0\nHighschool                     0\nSome_College                   0\nRace_Asian                     0\nRace_White                     0\nRace_Two_Or_More               0\nRace_Black                     0\nRace_Hispanic                  0\nRace                       39006\nEducation                  31244\ndtype: int64"
     },
     "execution_count": 6,
     "metadata": {},
     "output_type": "execute_result"
    }
   ],
   "source": [
    "stem_salaries = df.fillna({'company':'Unknown', 'gender':'Unknown','Race': 'Unknown', 'Education': 'Unknown'})\n",
    "df.isnull().sum()"
   ],
   "metadata": {
    "collapsed": false
   }
  },
  {
   "cell_type": "code",
   "execution_count": null,
   "outputs": [],
   "source": [],
   "metadata": {
    "collapsed": false
   }
  },
  {
   "cell_type": "code",
   "execution_count": 2,
   "outputs": [
    {
     "data": {
      "text/plain": "Male                               35702\nFemale                              6999\nOther                                400\nTitle: Senior Software Engineer        1\nName: gender, dtype: int64"
     },
     "execution_count": 2,
     "metadata": {},
     "output_type": "execute_result"
    }
   ],
   "source": [
    "df.gender.value_counts() # pohlaví"
   ],
   "metadata": {
    "collapsed": false
   }
  },
  {
   "cell_type": "code",
   "execution_count": 39,
   "outputs": [
    {
     "data": {
      "text/plain": "Seattle, WA                      8701\nSan Francisco, CA                6797\nNew York, NY                     4562\nRedmond, WA                      2649\nMountain View, CA                2275\n                                 ... \nSan Fernando, LB, Philippines       1\nSuwanee, GA                         1\nOxford, MS                          1\nWayne, PA                           1\nHilbert, WI                         1\nName: location, Length: 1050, dtype: int64"
     },
     "execution_count": 39,
     "metadata": {},
     "output_type": "execute_result"
    }
   ],
   "source": [
    "df.location.value_counts() # nejvíce zastoupené města (Amerika)."
   ],
   "metadata": {
    "collapsed": false
   }
  },
  {
   "cell_type": "code",
   "execution_count": 8,
   "outputs": [
    {
     "data": {
      "text/plain": "       basesalary                         title            company\n62351   1659870.0               Product Manager          Microsoft\n61851   1620000.0             Software Engineer        Squarespace\n45054    900000.0         Management Consultant                PwC\n56175    893000.0             Software Engineer            Netflix\n57701    861000.0             Software Engineer            Netflix\n61967    850000.0  Software Engineering Manager          Microsoft\n56529    840000.0             Software Engineer            Netflix\n36746    800000.0             Software Engineer            Netflix\n37462    800000.0  Software Engineering Manager            Netflix\n16640    800000.0               Product Manager            Netflix\n45210    794000.0               Product Manager  HERE Technologies\n38957    760000.0             Software Engineer            Netflix\n12177    750000.0             Software Engineer            Netflix\n40726    715000.0             Software Engineer            Netflix\n14417    700000.0                Data Scientist            Netflix\n35536    700000.0             Software Engineer            Netflix\n57518    700000.0  Software Engineering Manager            Netflix\n35867    700000.0                Data Scientist            Netflix\n37231    700000.0             Software Engineer            Netflix\n29811    700000.0  Software Engineering Manager            Netflix",
      "text/html": "<div>\n<style scoped>\n    .dataframe tbody tr th:only-of-type {\n        vertical-align: middle;\n    }\n\n    .dataframe tbody tr th {\n        vertical-align: top;\n    }\n\n    .dataframe thead th {\n        text-align: right;\n    }\n</style>\n<table border=\"1\" class=\"dataframe\">\n  <thead>\n    <tr style=\"text-align: right;\">\n      <th></th>\n      <th>basesalary</th>\n      <th>title</th>\n      <th>company</th>\n    </tr>\n  </thead>\n  <tbody>\n    <tr>\n      <th>62351</th>\n      <td>1659870.0</td>\n      <td>Product Manager</td>\n      <td>Microsoft</td>\n    </tr>\n    <tr>\n      <th>61851</th>\n      <td>1620000.0</td>\n      <td>Software Engineer</td>\n      <td>Squarespace</td>\n    </tr>\n    <tr>\n      <th>45054</th>\n      <td>900000.0</td>\n      <td>Management Consultant</td>\n      <td>PwC</td>\n    </tr>\n    <tr>\n      <th>56175</th>\n      <td>893000.0</td>\n      <td>Software Engineer</td>\n      <td>Netflix</td>\n    </tr>\n    <tr>\n      <th>57701</th>\n      <td>861000.0</td>\n      <td>Software Engineer</td>\n      <td>Netflix</td>\n    </tr>\n    <tr>\n      <th>61967</th>\n      <td>850000.0</td>\n      <td>Software Engineering Manager</td>\n      <td>Microsoft</td>\n    </tr>\n    <tr>\n      <th>56529</th>\n      <td>840000.0</td>\n      <td>Software Engineer</td>\n      <td>Netflix</td>\n    </tr>\n    <tr>\n      <th>36746</th>\n      <td>800000.0</td>\n      <td>Software Engineer</td>\n      <td>Netflix</td>\n    </tr>\n    <tr>\n      <th>37462</th>\n      <td>800000.0</td>\n      <td>Software Engineering Manager</td>\n      <td>Netflix</td>\n    </tr>\n    <tr>\n      <th>16640</th>\n      <td>800000.0</td>\n      <td>Product Manager</td>\n      <td>Netflix</td>\n    </tr>\n    <tr>\n      <th>45210</th>\n      <td>794000.0</td>\n      <td>Product Manager</td>\n      <td>HERE Technologies</td>\n    </tr>\n    <tr>\n      <th>38957</th>\n      <td>760000.0</td>\n      <td>Software Engineer</td>\n      <td>Netflix</td>\n    </tr>\n    <tr>\n      <th>12177</th>\n      <td>750000.0</td>\n      <td>Software Engineer</td>\n      <td>Netflix</td>\n    </tr>\n    <tr>\n      <th>40726</th>\n      <td>715000.0</td>\n      <td>Software Engineer</td>\n      <td>Netflix</td>\n    </tr>\n    <tr>\n      <th>14417</th>\n      <td>700000.0</td>\n      <td>Data Scientist</td>\n      <td>Netflix</td>\n    </tr>\n    <tr>\n      <th>35536</th>\n      <td>700000.0</td>\n      <td>Software Engineer</td>\n      <td>Netflix</td>\n    </tr>\n    <tr>\n      <th>57518</th>\n      <td>700000.0</td>\n      <td>Software Engineering Manager</td>\n      <td>Netflix</td>\n    </tr>\n    <tr>\n      <th>35867</th>\n      <td>700000.0</td>\n      <td>Data Scientist</td>\n      <td>Netflix</td>\n    </tr>\n    <tr>\n      <th>37231</th>\n      <td>700000.0</td>\n      <td>Software Engineer</td>\n      <td>Netflix</td>\n    </tr>\n    <tr>\n      <th>29811</th>\n      <td>700000.0</td>\n      <td>Software Engineering Manager</td>\n      <td>Netflix</td>\n    </tr>\n  </tbody>\n</table>\n</div>"
     },
     "execution_count": 8,
     "metadata": {},
     "output_type": "execute_result"
    }
   ],
   "source": [
    "df[['basesalary','title','company']].sort_values(by='basesalary',ascending=False).head(20) # 20 nejvydělečnějších \"lidi\""
   ],
   "metadata": {
    "collapsed": false,
    "ExecuteTime": {
     "start_time": "2023-04-10T16:19:51.831612Z",
     "end_time": "2023-04-10T16:19:51.893992Z"
    }
   }
  },
  {
   "cell_type": "code",
   "execution_count": null,
   "outputs": [],
   "source": [],
   "metadata": {
    "collapsed": false
   }
  },
  {
   "cell_type": "code",
   "execution_count": 23,
   "outputs": [
    {
     "data": {
      "text/plain": "           company  count\n0           Amazon   8126\n1        Microsoft   5216\n2           Google   4330\n3         Facebook   2990\n4            Apple   2028\n5           Oracle   1128\n6       Salesforce   1056\n7            Intel    949\n8              IBM    907\n9            Cisco    907\n10            Uber    880\n11     Capital One    778\n12        LinkedIn    701\n13          VMware    657\n14        Qualcomm    565\n15  JPMorgan Chase    541\n16       Bloomberg    537\n17   Goldman Sachs    469\n18          Intuit    449\n19          PayPal    426",
      "text/html": "<div>\n<style scoped>\n    .dataframe tbody tr th:only-of-type {\n        vertical-align: middle;\n    }\n\n    .dataframe tbody tr th {\n        vertical-align: top;\n    }\n\n    .dataframe thead th {\n        text-align: right;\n    }\n</style>\n<table border=\"1\" class=\"dataframe\">\n  <thead>\n    <tr style=\"text-align: right;\">\n      <th></th>\n      <th>company</th>\n      <th>count</th>\n    </tr>\n  </thead>\n  <tbody>\n    <tr>\n      <th>0</th>\n      <td>Amazon</td>\n      <td>8126</td>\n    </tr>\n    <tr>\n      <th>1</th>\n      <td>Microsoft</td>\n      <td>5216</td>\n    </tr>\n    <tr>\n      <th>2</th>\n      <td>Google</td>\n      <td>4330</td>\n    </tr>\n    <tr>\n      <th>3</th>\n      <td>Facebook</td>\n      <td>2990</td>\n    </tr>\n    <tr>\n      <th>4</th>\n      <td>Apple</td>\n      <td>2028</td>\n    </tr>\n    <tr>\n      <th>5</th>\n      <td>Oracle</td>\n      <td>1128</td>\n    </tr>\n    <tr>\n      <th>6</th>\n      <td>Salesforce</td>\n      <td>1056</td>\n    </tr>\n    <tr>\n      <th>7</th>\n      <td>Intel</td>\n      <td>949</td>\n    </tr>\n    <tr>\n      <th>8</th>\n      <td>IBM</td>\n      <td>907</td>\n    </tr>\n    <tr>\n      <th>9</th>\n      <td>Cisco</td>\n      <td>907</td>\n    </tr>\n    <tr>\n      <th>10</th>\n      <td>Uber</td>\n      <td>880</td>\n    </tr>\n    <tr>\n      <th>11</th>\n      <td>Capital One</td>\n      <td>778</td>\n    </tr>\n    <tr>\n      <th>12</th>\n      <td>LinkedIn</td>\n      <td>701</td>\n    </tr>\n    <tr>\n      <th>13</th>\n      <td>VMware</td>\n      <td>657</td>\n    </tr>\n    <tr>\n      <th>14</th>\n      <td>Qualcomm</td>\n      <td>565</td>\n    </tr>\n    <tr>\n      <th>15</th>\n      <td>JPMorgan Chase</td>\n      <td>541</td>\n    </tr>\n    <tr>\n      <th>16</th>\n      <td>Bloomberg</td>\n      <td>537</td>\n    </tr>\n    <tr>\n      <th>17</th>\n      <td>Goldman Sachs</td>\n      <td>469</td>\n    </tr>\n    <tr>\n      <th>18</th>\n      <td>Intuit</td>\n      <td>449</td>\n    </tr>\n    <tr>\n      <th>19</th>\n      <td>PayPal</td>\n      <td>426</td>\n    </tr>\n  </tbody>\n</table>\n</div>"
     },
     "execution_count": 23,
     "metadata": {},
     "output_type": "execute_result"
    }
   ],
   "source": [
    "df['count'] = 1\n",
    "most_common_companies =(\n",
    "                    df.groupby(['company'])\n",
    "                    .count()\n",
    "                    .sort_values(by='count', ascending=False)\n",
    "                    .head(20)\n",
    "                    .reset_index()\n",
    "                    )\n",
    "most_common_companies[['company', 'count']] #Firmy s nejvyšším zastoupením."
   ],
   "metadata": {
    "collapsed": false
   }
  },
  {
   "cell_type": "code",
   "execution_count": 7,
   "outputs": [
    {
     "data": {
      "text/plain": "Master's Degree      15391\nBachelor's Degree    12601\nPhD                   1703\nSome College           355\nHighschool             320\nName: Education, dtype: int64"
     },
     "execution_count": 7,
     "metadata": {},
     "output_type": "execute_result"
    }
   ],
   "source": [
    "df.Education.value_counts() #vzdělání"
   ],
   "metadata": {
    "collapsed": false
   }
  },
  {
   "cell_type": "code",
   "execution_count": null,
   "outputs": [],
   "source": [],
   "metadata": {
    "collapsed": false
   }
  },
  {
   "cell_type": "code",
   "execution_count": 5,
   "outputs": [
    {
     "data": {
      "text/plain": "Software Engineer               41231\nProduct Manager                  4673\nSoftware Engineering Manager     3569\nData Scientist                   2578\nHardware Engineer                2200\nProduct Designer                 1516\nTechnical Program Manager        1381\nSolution Architect               1157\nManagement Consultant             976\nBusiness Analyst                  885\nMarketing                         710\nMechanical Engineer               490\nSales                             461\nRecruiter                         451\nHuman Resources                   364\nName: title, dtype: int64"
     },
     "execution_count": 5,
     "metadata": {},
     "output_type": "execute_result"
    }
   ],
   "source": [
    "df.title.value_counts() #nejčastější pozice"
   ],
   "metadata": {
    "collapsed": false
   }
  }
 ],
 "metadata": {
  "kernelspec": {
   "display_name": "Python 3 (ipykernel)",
   "language": "python",
   "name": "python3"
  },
  "language_info": {
   "codemirror_mode": {
    "name": "ipython",
    "version": 3
   },
   "file_extension": ".py",
   "mimetype": "text/x-python",
   "name": "python",
   "nbconvert_exporter": "python",
   "pygments_lexer": "ipython3",
   "version": "3.9.13"
  }
 },
 "nbformat": 4,
 "nbformat_minor": 5
}
