{
 "cells": [
  {
   "cell_type": "code",
   "execution_count": 3,
   "id": "b1cb04a6",
   "metadata": {},
   "outputs": [
    {
     "name": "stdout",
     "output_type": "stream",
     "text": [
      "0            Oracle\n",
      "1              eBay\n",
      "2            Amazon\n",
      "3             Apple\n",
      "4         Microsoft\n",
      "            ...    \n",
      "62637        Google\n",
      "62638     Microsoft\n",
      "62639          MSFT\n",
      "62640    Salesforce\n",
      "62641         apple\n",
      "Name: company, Length: 62642, dtype: object\n"
     ]
    }
   ],
   "source": [
    "import pandas as pd\n",
    "df = pd.read_csv('dataPlaty.csv')\n",
    "print(df['company'])"
   ]
  },
  {
   "cell_type": "code",
   "execution_count": null,
   "outputs": [],
   "source": [],
   "metadata": {
    "collapsed": false
   }
  }
 ],
 "metadata": {
  "kernelspec": {
   "display_name": "Python 3 (ipykernel)",
   "language": "python",
   "name": "python3"
  },
  "language_info": {
   "codemirror_mode": {
    "name": "ipython",
    "version": 3
   },
   "file_extension": ".py",
   "mimetype": "text/x-python",
   "name": "python",
   "nbconvert_exporter": "python",
   "pygments_lexer": "ipython3",
   "version": "3.9.13"
  }
 },
 "nbformat": 4,
 "nbformat_minor": 5
}
